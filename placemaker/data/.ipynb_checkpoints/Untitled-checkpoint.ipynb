{
 "cells": [
  {
   "cell_type": "code",
   "execution_count": 2,
   "metadata": {
    "collapsed": true
   },
   "outputs": [],
   "source": [
    "import pyowm\n",
    "OPEN_WEATHER = '304bb5bb169f65dc73a1c17c5564afea'\n",
    "owm = pyowm.OWM(OPEN_WEATHER)"
   ]
  },
  {
   "cell_type": "code",
   "execution_count": 3,
   "metadata": {
    "collapsed": false
   },
   "outputs": [
    {
     "name": "stdout",
     "output_type": "stream",
     "text": [
      "<pyowm.webapi25.weather.Weather - reference time=2016-10-23 11:31:33+00, status=Clear>\n"
     ]
    }
   ],
   "source": [
    "#code\n",
    "#search for weather in St. Louis Missouri\n",
    "# Search for current weather in London (UK)\n",
    "observation = owm.weather_at_place('Saint Louis, MO, US')\n",
    "w = observation.get_weather()\n",
    "print(w)                "
   ]
  },
  {
   "cell_type": "code",
   "execution_count": 6,
   "metadata": {
    "collapsed": false
   },
   "outputs": [
    {
     "data": {
      "text/plain": [
       "{'temp': 8.06, 'temp_kf': None, 'temp_max': 8.06, 'temp_min': 8.06}"
      ]
     },
     "execution_count": 6,
     "metadata": {},
     "output_type": "execute_result"
    }
   ],
   "source": [
    "w.get_temperature('celsius')['temp_min']"
   ]
  },
  {
   "cell_type": "code",
   "execution_count": null,
   "metadata": {
    "collapsed": true
   },
   "outputs": [],
   "source": [
    "#if temperature is going to be 0c, find list of homeless direct them to a shelter. \n",
    "#we'll send a text message telling them to go to a homeless center they've been to before. v2 algo\n",
    "\n",
    "def get_temp_send_messages(open_weather=None):\n",
    "    '''\n",
    "    Static.\n",
    "    '''\n",
    "    if not open_weather:\n",
    "        open_weather = '304bb5bb169f65dc73a1c17c5564afea'\n",
    "        \n",
    "    owm = pyowm.OWM(OPEN_WEATHER)\n",
    "    observation = owm.weather_at_place('Saint Louis, MO, US')\n",
    "    w = observation.get_weather()\n",
    "    if int(w.get_temperature('celsius')['temp_min']) >= 0:\n",
    "        #system code: if now is > sunset - 1 hour:\n",
    "        # fire event. set last_checked env variable on some db model\n",
    "        #get list of people who are homeless or at risk\n",
    "        #send messages\n",
    "        #for person in list:\n",
    "        # msg = 'Hello, {0} It will be near freezing tonight and we want you to be safe. Please find the nearest shelter you visited last and check in.'\n",
    "        #    twilio.send(msg, person.number)"
   ]
  }
 ],
 "metadata": {
  "kernelspec": {
   "display_name": "Python 2",
   "language": "python",
   "name": "python2"
  },
  "language_info": {
   "codemirror_mode": {
    "name": "ipython",
    "version": 2
   },
   "file_extension": ".py",
   "mimetype": "text/x-python",
   "name": "python",
   "nbconvert_exporter": "python",
   "pygments_lexer": "ipython2",
   "version": "2.7.12"
  }
 },
 "nbformat": 4,
 "nbformat_minor": 1
}
