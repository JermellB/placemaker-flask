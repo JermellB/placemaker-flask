{
 "cells": [
  {
   "cell_type": "code",
   "execution_count": 2,
   "metadata": {
    "collapsed": true
   },
   "outputs": [],
   "source": [
    "import pyowm\n",
    "OPEN_WEATHER = '304bb5bb169f65dc73a1c17c5564afea'\n",
    "owm = pyowm.OWM(OPEN_WEATHER)"
   ]
  },
  {
   "cell_type": "code",
   "execution_count": 3,
   "metadata": {
    "collapsed": false
   },
   "outputs": [
    {
     "name": "stdout",
     "output_type": "stream",
     "text": [
      "<pyowm.webapi25.weather.Weather - reference time=2016-10-23 11:31:33+00, status=Clear>\n"
     ]
    }
   ],
   "source": [
    "#code\n",
    "#search for weather in St. Louis Missouri\n",
    "# Search for current weather in London (UK)\n",
    "observation = owm.weather_at_place('Saint Louis, MO, US')\n",
    "w = observation.get_weather()\n",
    "print(w)                "
   ]
  },
  {
   "cell_type": "code",
   "execution_count": 6,
   "metadata": {
    "collapsed": false
   },
   "outputs": [
    {
     "data": {
      "text/plain": [
       "{'temp': 8.06, 'temp_kf': None, 'temp_max': 8.06, 'temp_min': 8.06}"
      ]
     },
     "execution_count": 6,
     "metadata": {},
     "output_type": "execute_result"
    }
   ],
   "source": [
    "w.get_temperature('celsius')['temp_min']"
   ]
  },
  {
   "cell_type": "code",
   "execution_count": null,
   "metadata": {
    "collapsed": true
   },
   "outputs": [],
   "source": [
    "#if temperature is going to be 0c, find list of homeless direct them to a shelter. \n",
    "#we'll send a text message telling them to go to a homeless center they've been to before. v2 algo\n",
    "\n",
    "def get_temp_send_messages(open_weather=None):\n",
    "    '''\n",
    "    Static.\n",
    "    '''\n",
    "    if not open_weather:\n",
    "        open_weather = '304bb5bb169f65dc73a1c17c5564afea'\n",
    "        \n",
    "    owm = pyowm.OWM(OPEN_WEATHER)\n",
    "    observation = owm.weather_at_place('Saint Louis, MO, US')\n",
    "    w = observation.get_weather()\n",
    "    if int(w.get_temperature('celsius')['temp_min']) >= 0:\n",
    "        #system code: if now is > sunset - 1 hour:\n",
    "        # fire event.\n",
    "        #get list of people who are homeless or at risk\n",
    "        #send messages\n",
    "        #for person in list:\n",
    "        # msg = 'Hello, {0} It will be near freezing tonight and we want you to be safe. Please find the nearest shelter you visited last and check in.'\n",
    "        #    twilio.send(msg, person.number)"
   ]
  },
  {
   "cell_type": "code",
   "execution_count": 4,
   "metadata": {
    "collapsed": false
   },
   "outputs": [
    {
     "data": {
      "text/plain": [
       "[ObjectId('580c1b952aceb73f22b0f274'),\n",
       " ObjectId('580c1be62aceb73f22b0f27a'),\n",
       " ObjectId('580c1c362aceb73f22b0f280'),\n",
       " ObjectId('580c7c932aceb75ff618604f'),\n",
       " ObjectId('580c7ca42aceb75ff6186051'),\n",
       " ObjectId('580c7d092aceb75ff6186055'),\n",
       " ObjectId('580c7d092aceb75ff6186056'),\n",
       " ObjectId('580c7d092aceb75ff6186057'),\n",
       " ObjectId('580c7d092aceb75ff6186058'),\n",
       " ObjectId('580c7d092aceb75ff6186059'),\n",
       " ObjectId('580c7d092aceb75ff618605a')]"
      ]
     },
     "execution_count": 4,
     "metadata": {},
     "output_type": "execute_result"
    }
   ],
   "source": [
    "from placemaker.models import Question\n",
    "from placemaker.settings import MONGO_DB, MONGO_HOST\n",
    "import mongoengine\n",
    "mongoengine.connect(MONGO_DB, host=MONGO_HOST)\n",
    "questions = Question.objects\n",
    "[question.pk for question in questions] "
   ]
  },
  {
   "cell_type": "code",
   "execution_count": null,
   "metadata": {
    "collapsed": true
   },
   "outputs": [],
   "source": []
  }
 ],
 "metadata": {
  "kernelspec": {
   "display_name": "Python 2",
   "language": "python",
   "name": "python2"
  },
  "language_info": {
   "codemirror_mode": {
    "name": "ipython",
    "version": 2
   },
   "file_extension": ".py",
   "mimetype": "text/x-python",
   "name": "python",
   "nbconvert_exporter": "python",
   "pygments_lexer": "ipython2",
   "version": "2.7.12"
  }
 },
 "nbformat": 4,
 "nbformat_minor": 1
}
